{
 "cells": [
  {
   "cell_type": "code",
   "execution_count": 1,
   "metadata": {},
   "outputs": [],
   "source": [
    "# This piece of code parses a html file, and splits the contents into a list of sentences (with word tags) for further analysis.\n",
    "\n",
    "from bs4 import BeautifulSoup\n",
    "import urllib\n",
    "import nltk.data\n",
    "import re"
   ]
  },
  {
   "cell_type": "code",
   "execution_count": 2,
   "metadata": {},
   "outputs": [
    {
     "name": "stdout",
     "output_type": "stream",
     "text": [
      "\n",
      "\n",
      "\n",
      "Earth is the third planet from the Sun and the only object in the Universe known to harbor life. According to radiometric dating and other sources of evidence, Earth formed over 4.5 billion years ago.[24][25][26] Earth's gravity interacts with other objects in space, especially the Sun and the Moon, Earth's only natural satellite. Earth revolves around the Sun in 365.26 days, a period known as an Earth year. During this time, Earth rotates about its axis about 366.26 times.[n 5]\n",
      "Earth's axis of rotation is tilted with respect to its orbital plane, producing seasons on Earth.[27] The gravitational interaction between Earth and the Moon causes ocean tides, stabilizes Earth's orientation on its axis, and gradually slows its rotation.[28] Earth is the densest planet in the Solar System and the largest of the four terrestrial planets.\n",
      "Earth's lithosphere is divided into several rigid tectonic plates that migrate across the surface over periods of many millions of years. About 71% of Earth's surface is covered with water, mostly by oceans.[29] The remaining 29% is land consisting of continents and islands that together have many lakes, rivers and other sources of water that contribute to the hydrosphere. The majority of Earth's polar regions are covered in ice, including the Antarctic ice sheet and the sea ice of the Arctic ice pack. Earth's interior remains active with a solid iron inner core, a liquid outer core that generates the Earth's magnetic field, and a convecting mantle that drives plate tectonics.\n",
      "Within the first billion years of Earth's history, life appeared in the oceans and began to affect the Earth's atmosphere and surface, leading to the proliferation of aerobic and anaerobic organisms. Some geological evidence indicates that life may have arisen as much as 4.1 billion years ago. Since then, the combination of Earth's distance from the Sun, physical properties, and geological history have allowed life to evolve and thrive.[30][31] In the history of the Earth, biodiversity has gone through long periods of expansion, occasionally punctuated by mass extinction events. Over 99% of all species[32] that ever lived on Earth are extinct.[33][34] Estimates of the number of species on Earth today vary widely;[35][36][37] most species have not been described.[38] Over 7.6 billion humans live on Earth and depend on its biosphere and natural resources for their survival. Humans have developed diverse societies and cultures; politically, the world has about 200 sovereign states.\n",
      "\n",
      "\n",
      "\n"
     ]
    },
    {
     "name": "stderr",
     "output_type": "stream",
     "text": [
      "/anaconda2/lib/python2.7/site-packages/bs4/__init__.py:181: UserWarning: No parser was explicitly specified, so I'm using the best available HTML parser for this system (\"lxml\"). This usually isn't a problem, but if you run this code on another system, or in a different virtual environment, it may use a different parser and behave differently.\n",
      "\n",
      "The code that caused this warning is on line 174 of the file /anaconda2/lib/python2.7/runpy.py. To get rid of this warning, change code that looks like this:\n",
      "\n",
      " BeautifulSoup(YOUR_MARKUP})\n",
      "\n",
      "to this:\n",
      "\n",
      " BeautifulSoup(YOUR_MARKUP, \"lxml\")\n",
      "\n",
      "  markup_type=markup_type))\n"
     ]
    }
   ],
   "source": [
    "url = \"Data/earth.html\"\n",
    "html = urllib.urlopen(url).read()\n",
    "soup = BeautifulSoup(html)\n",
    "[s.extract() for s in soup(['style', 'script', '[document]', 'head', 'title'])]\n",
    "visible_text = soup.getText()\n",
    "\n",
    "print visible_text\n"
   ]
  },
  {
   "cell_type": "code",
   "execution_count": 3,
   "metadata": {},
   "outputs": [
    {
     "name": "stdout",
     "output_type": "stream",
     "text": [
      "\n",
      "\n",
      "\n",
      "Earth is the third planet from the Sun and the only object in the Universe known to harbor life.\n",
      "-----\n",
      "According to radiometric dating and other sources of evidence, Earth formed over 4.5 billion years ago.\n",
      "-----\n",
      "[24][25][26] Earth's gravity interacts with other objects in space, especially the Sun and the Moon, Earth's only natural satellite.\n",
      "-----\n",
      "Earth revolves around the Sun in 365.26 days, a period known as an Earth year.\n",
      "-----\n",
      "During this time, Earth rotates about its axis about 366.26 times.\n",
      "-----\n",
      "[n 5]\n",
      "Earth's axis of rotation is tilted with respect to its orbital plane, producing seasons on Earth.\n",
      "-----\n",
      "[27] The gravitational interaction between Earth and the Moon causes ocean tides, stabilizes Earth's orientation on its axis, and gradually slows its rotation.\n",
      "-----\n",
      "[28] Earth is the densest planet in the Solar System and the largest of the four terrestrial planets.\n",
      "-----\n",
      "Earth's lithosphere is divided into several rigid tectonic plates that migrate across the surface over periods of many millions of years.\n",
      "-----\n",
      "About 71% of Earth's surface is covered with water, mostly by oceans.\n",
      "-----\n",
      "[29] The remaining 29% is land consisting of continents and islands that together have many lakes, rivers and other sources of water that contribute to the hydrosphere.\n",
      "-----\n",
      "The majority of Earth's polar regions are covered in ice, including the Antarctic ice sheet and the sea ice of the Arctic ice pack.\n",
      "-----\n",
      "Earth's interior remains active with a solid iron inner core, a liquid outer core that generates the Earth's magnetic field, and a convecting mantle that drives plate tectonics.\n",
      "-----\n",
      "Within the first billion years of Earth's history, life appeared in the oceans and began to affect the Earth's atmosphere and surface, leading to the proliferation of aerobic and anaerobic organisms.\n",
      "-----\n",
      "Some geological evidence indicates that life may have arisen as much as 4.1 billion years ago.\n",
      "-----\n",
      "Since then, the combination of Earth's distance from the Sun, physical properties, and geological history have allowed life to evolve and thrive.\n",
      "-----\n",
      "[30][31] In the history of the Earth, biodiversity has gone through long periods of expansion, occasionally punctuated by mass extinction events.\n",
      "-----\n",
      "Over 99% of all species[32] that ever lived on Earth are extinct.\n",
      "-----\n",
      "[33][34] Estimates of the number of species on Earth today vary widely;[35][36][37] most species have not been described.\n",
      "-----\n",
      "[38] Over 7.6 billion humans live on Earth and depend on its biosphere and natural resources for their survival.\n",
      "-----\n",
      "Humans have developed diverse societies and cultures; politically, the world has about 200 sovereign states.\n"
     ]
    }
   ],
   "source": [
    "# nltk.download('punkt')\n",
    "\n",
    "tokenizer = nltk.data.load('tokenizers/punkt/english.pickle')\n",
    "print '\\n-----\\n'.join(tokenizer.tokenize(visible_text))# break text into sentences\n",
    "\n",
    "sentences = '\\n-----\\n'.join(tokenizer.tokenize(visible_text))"
   ]
  },
  {
   "cell_type": "code",
   "execution_count": 4,
   "metadata": {},
   "outputs": [
    {
     "name": "stdout",
     "output_type": "stream",
     "text": [
      "[(u'Earth', 'NN'), (u'is', 'VBZ'), (u'the', 'DT'), (u'third', 'JJ'), (u'planet', 'NN'), (u'from', 'IN'), (u'the', 'DT'), (u'Sun', 'NNP'), (u'and', 'CC'), (u'the', 'DT'), (u'only', 'JJ'), (u'object', 'NN'), (u'in', 'IN'), (u'the', 'DT'), (u'Universe', 'NNP'), (u'known', 'VBN'), (u'to', 'TO'), (u'harbor', 'VB'), (u'life', 'NN'), (u'.', '.')]\n"
     ]
    }
   ],
   "source": [
    "# nltk.download('averaged_perceptron_tagger')\n",
    "\n",
    "def ie_preprocess(document):\n",
    "    sentences = nltk.sent_tokenize(document)\n",
    "    sentences = [nltk.word_tokenize(sent) for sent in sentences]\n",
    "    sentences = [nltk.pos_tag(sent) for sent in sentences]\n",
    "    return sentences\n",
    "\n",
    "print ie_preprocess(visible_text)[0]\n"
   ]
  },
  {
   "cell_type": "code",
   "execution_count": 5,
   "metadata": {},
   "outputs": [
    {
     "name": "stdout",
     "output_type": "stream",
     "text": [
      "[(u'According', 'VBG'), (u'to', 'TO'), (u'radiometric', 'VB'), (u'dating', 'NN'), (u'and', 'CC'), (u'other', 'JJ'), (u'sources', 'NNS'), (u'of', 'IN'), (u'evidence', 'NN'), (u',', ','), (u'Earth', 'NNP'), (u'formed', 'VBD'), (u'over', 'IN'), (u'4.5', 'CD'), (u'billion', 'CD'), (u'years', 'NNS'), (u'ago', 'RB'), (u'.', '.')]\n"
     ]
    }
   ],
   "source": [
    "print ie_preprocess(visible_text)[1]"
   ]
  },
  {
   "cell_type": "code",
   "execution_count": null,
   "metadata": {},
   "outputs": [],
   "source": []
  }
 ],
 "metadata": {
  "kernelspec": {
   "display_name": "Python 2",
   "language": "python",
   "name": "python2"
  },
  "language_info": {
   "codemirror_mode": {
    "name": "ipython",
    "version": 2
   },
   "file_extension": ".py",
   "mimetype": "text/x-python",
   "name": "python",
   "nbconvert_exporter": "python",
   "pygments_lexer": "ipython2",
   "version": "2.7.14"
  }
 },
 "nbformat": 4,
 "nbformat_minor": 2
}
